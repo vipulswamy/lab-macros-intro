{
 "cells": [
  {
   "cell_type": "markdown",
   "id": "e9c68643",
   "metadata": {},
   "source": [
    "## Lab | Macros intro"
   ]
  },
  {
   "cell_type": "code",
   "execution_count": 1,
   "id": "4fa3c3d9",
   "metadata": {},
   "outputs": [],
   "source": [
    "import openpyxl\n",
    "from openpyxl import Workbook, load_workbook\n",
    "import numpy as np\n",
    "import pandas as pd"
   ]
  },
  {
   "cell_type": "markdown",
   "id": "15783c0b",
   "metadata": {},
   "source": [
    "#### You are working as an analyst for an e-commerce platform. Your team receives data from a server about the activities of visitors on the website. The data is received at an interval of 12 hours from the servers and is recorded in the excel file in different sheets. Data recorded over 2 days is given to you in the file files_for_lab/server_data.xlsm"
   ]
  },
  {
   "cell_type": "code",
   "execution_count": 3,
   "id": "ad4b51d1",
   "metadata": {},
   "outputs": [],
   "source": [
    "wb = load_workbook('server_data.xlsm')"
   ]
  },
  {
   "cell_type": "code",
   "execution_count": 4,
   "id": "a02c8235",
   "metadata": {},
   "outputs": [
    {
     "data": {
      "text/plain": [
       "['Sheet1', 'Sheet2', 'Sheet3', 'sheet4']"
      ]
     },
     "execution_count": 4,
     "metadata": {},
     "output_type": "execute_result"
    }
   ],
   "source": [
    "wb.sheetnames"
   ]
  },
  {
   "cell_type": "markdown",
   "id": "6641809a",
   "metadata": {},
   "source": [
    "##### Please refer to the files 'server_data_v1' 'server_data_v1' and 'solution_steps.txt' to understand the final solution "
   ]
  }
 ],
 "metadata": {
  "kernelspec": {
   "display_name": "Python 3 (ipykernel)",
   "language": "python",
   "name": "python3"
  },
  "language_info": {
   "codemirror_mode": {
    "name": "ipython",
    "version": 3
   },
   "file_extension": ".py",
   "mimetype": "text/x-python",
   "name": "python",
   "nbconvert_exporter": "python",
   "pygments_lexer": "ipython3",
   "version": "3.9.12"
  }
 },
 "nbformat": 4,
 "nbformat_minor": 5
}
